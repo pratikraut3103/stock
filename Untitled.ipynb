{
 "cells": [
  {
   "cell_type": "code",
   "execution_count": 1,
   "metadata": {},
   "outputs": [
    {
     "name": "stdout",
     "output_type": "stream",
     "text": [
      "html.B(\"W\"),html.B(\"M\"),html.B(\"A\"),html.B(\" \"),html.B(\"=\"),html.B(\" \"),html.B(\"(\"),html.B(\"p\"),html.B(\"r\"),html.B(\"i\"),html.B(\"c\"),html.B(\"e\"),html.B(\" \"),html.Sup(\"*\"),html.B(\" \"),html.B(\"n\"),html.B(\" \"),html.B(\"+\"),html.B(\" \"),html.B(\"p\"),html.B(\"r\"),html.B(\"i\"),html.B(\"c\"),html.B(\"e\"),html.B(\"(\"),html.B(\"1\"),html.B(\")\"),html.B(\" \"),html.Sup(\"*\"),html.B(\" \"),html.B(\"n\"),html.B(\"-\"),html.B(\"1\"),html.B(\"+\"),html.B(\".\"),html.B(\".\"),html.B(\".\"),html.B(\".\"),html.B(\" \"),html.B(\"p\"),html.B(\"r\"),html.B(\"i\"),html.B(\"c\"),html.B(\"e\"),html.B(\"(\"),html.B(\"n\"),html.B(\"-\"),html.B(\"l\"),html.B(\")\"),html.B(\" \"),html.Sup(\"*\"),html.B(\" \"),html.B(\"1\"),html.B(\")\"),html.B(\"/\"),html.B(\"(\"),html.B(\" \"),html.B(\"n\"),html.B(\" \"),html.Sup(\"*\"),html.B(\" \"),html.B(\"(\"),html.B(\"n\"),html.B(\"+\"),html.B(\"1\"),html.B(\")\"),html.B(\"/\"),html.B(\"2\"),html.B(\")\"),\n"
     ]
    }
   ],
   "source": [
    "str_ = 'WMA = (price * n + price(1) * n-1+.... price(n-l) * 1)/( n * (n+1)/2)'\n",
    "\n",
    "str_list = []\n",
    "for _ in range(len(str_)):\n",
    "    str_list.append(str_[_])\n",
    "\n",
    "format_ = ''\n",
    "for _ in str_list:\n",
    "    if _ != '*':\n",
    "        format_ = format_ + f'html.B(\"{_}\"),'\n",
    "    else:\n",
    "        format_ = format_ + f'html.Sup(\"{_}\"),'\n",
    "\n",
    "print(format_)"
   ]
  },
  {
   "cell_type": "code",
   "execution_count": null,
   "metadata": {},
   "outputs": [],
   "source": []
  }
 ],
 "metadata": {
  "kernelspec": {
   "display_name": "Python 3",
   "language": "python",
   "name": "python3"
  },
  "language_info": {
   "codemirror_mode": {
    "name": "ipython",
    "version": 3
   },
   "file_extension": ".py",
   "mimetype": "text/x-python",
   "name": "python",
   "nbconvert_exporter": "python",
   "pygments_lexer": "ipython3",
   "version": "3.8.3"
  }
 },
 "nbformat": 4,
 "nbformat_minor": 4
}
